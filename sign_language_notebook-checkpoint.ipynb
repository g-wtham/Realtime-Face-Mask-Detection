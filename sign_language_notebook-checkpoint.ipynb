{
 "cells": [
  {
   "cell_type": "code",
   "execution_count": null,
   "id": "d7241f85",
   "metadata": {},
   "outputs": [],
   "source": [
    "workspace_path = \"tensorflow_essentials/workspace\"\n",
    "tf_api_model_path = \"tensorflow_essentials/tf_object_detection_model\n",
    "annotations_path = workspace_path + \"/annotations\"\n",
    "images_path = workspace_path + \"/images\"\n",
    "tl_models = workspace_path + \"/tl_models\"\n",
    "pretrained_models = workspace_path + \"/pretrained_models\""
   ]
  }
 ],
 "metadata": {
  "kernelspec": {
   "display_name": "Python 3 (ipykernel)",
   "language": "python",
   "name": "python3"
  },
  "language_info": {
   "codemirror_mode": {
    "name": "ipython",
    "version": 3
   },
   "file_extension": ".py",
   "mimetype": "text/x-python",
   "name": "python",
   "nbconvert_exporter": "python",
   "pygments_lexer": "ipython3",
   "version": "3.11.5"
  }
 },
 "nbformat": 4,
 "nbformat_minor": 5
}
